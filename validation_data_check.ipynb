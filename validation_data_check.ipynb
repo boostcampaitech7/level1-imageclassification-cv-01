{
 "cells": [
  {
   "cell_type": "code",
   "execution_count": 1,
   "metadata": {},
   "outputs": [],
   "source": [
    "import pandas as pd\n",
    "import numpy as np\n",
    "import cv2\n",
    "from ipywidgets import interact\n",
    "import matplotlib.pyplot as plt\n",
    "import os\n",
    "import ipywidgets as widgets\n"
   ]
  },
  {
   "cell_type": "code",
   "execution_count": 2,
   "metadata": {},
   "outputs": [],
   "source": [
    "val_data_dir =  \"./data/train\""
   ]
  },
  {
   "cell_type": "markdown",
   "metadata": {},
   "source": [
    "#### val csv 위치 수정 필요"
   ]
  },
  {
   "cell_type": "code",
   "execution_count": 3,
   "metadata": {},
   "outputs": [],
   "source": [
    "val_csv = \"./result/resnet50-256-0.001-Adam-O-csv_2_09-13_0/validation.csv\""
   ]
  },
  {
   "cell_type": "code",
   "execution_count": 4,
   "metadata": {},
   "outputs": [],
   "source": [
    "val_df = pd.read_csv(val_csv)"
   ]
  },
  {
   "cell_type": "code",
   "execution_count": 5,
   "metadata": {},
   "outputs": [],
   "source": [
    "# 틀린 것만 보자 \n",
    "miss_df = val_df[val_df['target']!=val_df['pred']]"
   ]
  },
  {
   "cell_type": "markdown",
   "metadata": {},
   "source": [
    "#### 얼마나 틀렸나"
   ]
  },
  {
   "cell_type": "code",
   "execution_count": 6,
   "metadata": {},
   "outputs": [
    {
     "data": {
      "text/plain": [
       "0.20266222961730448"
      ]
     },
     "execution_count": 6,
     "metadata": {},
     "output_type": "execute_result"
    }
   ],
   "source": [
    "len(miss_df)/len(val_df)"
   ]
  },
  {
   "cell_type": "code",
   "execution_count": 7,
   "metadata": {},
   "outputs": [],
   "source": [
    "# !pip install ipywidgets"
   ]
  },
  {
   "cell_type": "code",
   "execution_count": 8,
   "metadata": {},
   "outputs": [],
   "source": [
    "# !pip install ipympl"
   ]
  },
  {
   "cell_type": "code",
   "execution_count": 9,
   "metadata": {},
   "outputs": [],
   "source": [
    "# target idx랑 class name이 다르니까 이걸 가져옴 \n",
    "class_idx_df = pd.read_csv('./data/train.csv')\n",
    "class_name_to_idx = dict(zip(class_idx_df['target'],class_idx_df['class_name']))\n"
   ]
  },
  {
   "cell_type": "code",
   "execution_count": 10,
   "metadata": {},
   "outputs": [
    {
     "data": {
      "text/html": [
       "<div>\n",
       "<style scoped>\n",
       "    .dataframe tbody tr th:only-of-type {\n",
       "        vertical-align: middle;\n",
       "    }\n",
       "\n",
       "    .dataframe tbody tr th {\n",
       "        vertical-align: top;\n",
       "    }\n",
       "\n",
       "    .dataframe thead th {\n",
       "        text-align: right;\n",
       "    }\n",
       "</style>\n",
       "<table border=\"1\" class=\"dataframe\">\n",
       "  <thead>\n",
       "    <tr style=\"text-align: right;\">\n",
       "      <th></th>\n",
       "      <th>class_name</th>\n",
       "      <th>image_path</th>\n",
       "      <th>target</th>\n",
       "      <th>pred</th>\n",
       "    </tr>\n",
       "  </thead>\n",
       "  <tbody>\n",
       "    <tr>\n",
       "      <th>0</th>\n",
       "      <td>n02321529</td>\n",
       "      <td>n02321529/sketch_15.JPEG</td>\n",
       "      <td>185</td>\n",
       "      <td>252</td>\n",
       "    </tr>\n",
       "    <tr>\n",
       "      <th>7</th>\n",
       "      <td>n03676483</td>\n",
       "      <td>n03676483/sketch_38.JPEG</td>\n",
       "      <td>307</td>\n",
       "      <td>382</td>\n",
       "    </tr>\n",
       "    <tr>\n",
       "      <th>9</th>\n",
       "      <td>n03770439</td>\n",
       "      <td>n03770439/sketch_24.JPEG</td>\n",
       "      <td>318</td>\n",
       "      <td>317</td>\n",
       "    </tr>\n",
       "    <tr>\n",
       "      <th>16</th>\n",
       "      <td>n02917067</td>\n",
       "      <td>n02917067/sketch_43.JPEG</td>\n",
       "      <td>254</td>\n",
       "      <td>319</td>\n",
       "    </tr>\n",
       "    <tr>\n",
       "      <th>21</th>\n",
       "      <td>n07734744</td>\n",
       "      <td>n07734744/sketch_47.JPEG</td>\n",
       "      <td>473</td>\n",
       "      <td>497</td>\n",
       "    </tr>\n",
       "  </tbody>\n",
       "</table>\n",
       "</div>"
      ],
      "text/plain": [
       "   class_name                image_path  target  pred\n",
       "0   n02321529  n02321529/sketch_15.JPEG     185   252\n",
       "7   n03676483  n03676483/sketch_38.JPEG     307   382\n",
       "9   n03770439  n03770439/sketch_24.JPEG     318   317\n",
       "16  n02917067  n02917067/sketch_43.JPEG     254   319\n",
       "21  n07734744  n07734744/sketch_47.JPEG     473   497"
      ]
     },
     "execution_count": 10,
     "metadata": {},
     "output_type": "execute_result"
    }
   ],
   "source": [
    "miss_df.head()"
   ]
  },
  {
   "cell_type": "code",
   "execution_count": 78,
   "metadata": {},
   "outputs": [],
   "source": []
  },
  {
   "cell_type": "code",
   "execution_count": 25,
   "metadata": {},
   "outputs": [],
   "source": []
  },
  {
   "cell_type": "code",
   "execution_count": 11,
   "metadata": {},
   "outputs": [],
   "source": [
    "#interact(plot_image, value=(0, len(miss_df)-1))\n"
   ]
  },
  {
   "cell_type": "code",
   "execution_count": 12,
   "metadata": {},
   "outputs": [],
   "source": [
    "from matplotlib.widgets import Slider"
   ]
  },
  {
   "cell_type": "code",
   "execution_count": 13,
   "metadata": {},
   "outputs": [
    {
     "data": {
      "application/vnd.jupyter.widget-view+json": {
       "model_id": "266be8e5d10e4745aa44fc1d52965c7a",
       "version_major": 2,
       "version_minor": 0
      },
      "text/plain": [
       "interactive(children=(IntSlider(value=0, description='Index', max=608), Output()), _dom_classes=('widget-inter…"
      ]
     },
     "metadata": {},
     "output_type": "display_data"
    },
    {
     "data": {
      "text/plain": [
       "<function __main__.plot_image(value)>"
      ]
     },
     "execution_count": 13,
     "metadata": {},
     "output_type": "execute_result"
    }
   ],
   "source": [
    "import os\n",
    "import cv2\n",
    "import matplotlib.pyplot as plt\n",
    "import ipywidgets as widgets\n",
    "from IPython.display import clear_output\n",
    "\n",
    "# 데이터 준비 (이 부분은 실제 코드에 맞게 조정해야 합니다)\n",
    "# miss_df, val_data_dir, class_name_to_idx 등의 데이터와 디렉토리 설정이 필요합니다\n",
    "\n",
    "def plot_image(value):\n",
    "    value = int(value)  # 슬라이더 값 추출\n",
    "    clear_output(wait=True)  # 이전 출력 제거\n",
    "    fig, ax = plt.subplots(3, 3, figsize=(6, 6))  # 새 그림 생성\n",
    "\n",
    "    # 잘못 예측된 sample (miss_df에서 잘못 예측된 이미지 경로)\n",
    "    img_path = os.path.join(val_data_dir, miss_df['image_path'].iloc[value])\n",
    "    image = cv2.imread(img_path, cv2.IMREAD_COLOR)\n",
    "    image = cv2.cvtColor(image, cv2.COLOR_BGR2RGB)\n",
    "    ax[0, 0].imshow(image)\n",
    "    ax[0, 0].axis('off')\n",
    "    ax[0, 0].set_title(f\"Misclassified image\")\n",
    "\n",
    "    ax[0, 1].axis('off')\n",
    "    ax[0, 2].axis('off')\n",
    "\n",
    "    # 실제 클래스 이미지들\n",
    "    target_dir = os.path.join(val_data_dir, str(class_name_to_idx[miss_df['target'].iloc[value]]))\n",
    "    target_list = [f for f in os.listdir(target_dir) if f.startswith('s')]\n",
    "\n",
    "    for i in range(3):\n",
    "        ax[1, i].clear()\n",
    "        if i < len(target_list):\n",
    "            img_path = os.path.join(target_dir, target_list[i])\n",
    "            image = cv2.imread(img_path, cv2.IMREAD_COLOR)\n",
    "            image = cv2.cvtColor(image, cv2.COLOR_BGR2RGB)\n",
    "            ax[1, i].imshow(image)\n",
    "            ax[1, i].axis('off')\n",
    "    ax[1, 0].set_title(f\"Target Class: {miss_df['target'].iloc[value]}\")\n",
    "\n",
    "    # 예측된 클래스 이미지들\n",
    "    pred_dir = os.path.join(val_data_dir, str(class_name_to_idx[miss_df['pred'].iloc[value]]))\n",
    "    pred_list = [f for f in os.listdir(pred_dir) if f.startswith('s')]\n",
    "\n",
    "    for i in range(3):\n",
    "        ax[2, i].clear()\n",
    "        if i < len(pred_list):\n",
    "            img_path = os.path.join(pred_dir, pred_list[i])\n",
    "            image = cv2.imread(img_path, cv2.IMREAD_COLOR)\n",
    "            image = cv2.cvtColor(image, cv2.COLOR_BGR2RGB)\n",
    "            ax[2, i].imshow(image)\n",
    "            ax[2, i].axis('off')\n",
    "    ax[2, 0].set_title(f\"Predicted Class: {miss_df['pred'].iloc[value]}\")\n",
    "\n",
    "    plt.tight_layout()\n",
    "    plt.show()\n",
    "\n",
    "# 슬라이더 생성\n",
    "slider = widgets.IntSlider(min=0, max=len(miss_df) - 1, step=1, description='Index')\n",
    "\n",
    "# 슬라이더와 plot_image 함수 연결\n",
    "widgets.interact(plot_image, value=slider)\n"
   ]
  },
  {
   "cell_type": "markdown",
   "metadata": {},
   "source": []
  },
  {
   "cell_type": "code",
   "execution_count": null,
   "metadata": {},
   "outputs": [],
   "source": []
  }
 ],
 "metadata": {
  "kernelspec": {
   "display_name": "base",
   "language": "python",
   "name": "python3"
  },
  "language_info": {
   "codemirror_mode": {
    "name": "ipython",
    "version": 3
   },
   "file_extension": ".py",
   "mimetype": "text/x-python",
   "name": "python",
   "nbconvert_exporter": "python",
   "pygments_lexer": "ipython3",
   "version": "3.10.13"
  }
 },
 "nbformat": 4,
 "nbformat_minor": 2
}
