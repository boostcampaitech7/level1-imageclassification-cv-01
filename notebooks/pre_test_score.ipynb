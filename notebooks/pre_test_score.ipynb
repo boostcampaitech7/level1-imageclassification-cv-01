{
 "cells": [
  {
   "cell_type": "code",
   "execution_count": null,
   "metadata": {},
   "outputs": [],
   "source": [
    "import pandas as pd\n",
    "\n",
    "def pred(path,output_list):\n",
    "    preddf = pd.read_csv(path)\n",
    "    predmin = 0\n",
    "    predmax = 1\n",
    "    maxsim_out = 0\n",
    "    maxsim_acc = 0\n",
    "    for i in range(output_list.shape[0]):\n",
    "        # if i == n: continue\n",
    "        out_csv = output_list.iloc[i]\n",
    "        out_df = pd.read_csv(\"./output/\"+out_csv['output_path'])\n",
    "\n",
    "        same = (preddf.target == out_df.target).sum()\n",
    "        diff = (preddf.target != out_df.target).sum()\n",
    "        same_rate = same/preddf.shape[0]\n",
    "        diff_rate = diff/preddf.shape[0]\n",
    "\n",
    "        samecollect = same_rate*out_csv['acc']\n",
    "        diffcollect = diff_rate*out_csv['acc']\n",
    "        \n",
    "        if maxsim_out < same_rate:\n",
    "            maxsim_out = same_rate\n",
    "            maxsim_acc = out_csv['acc']\n",
    "        tmpmin = out_csv['acc']-diff_rate\n",
    "        if tmpmin < 0: tmpmin = 0\n",
    "        tmpmax = out_csv['acc']+diff_rate\n",
    "        if tmpmax > 1: tmpmax = 2-tmpmax\n",
    "\n",
    "        if tmpmin > predmin: predmin = tmpmin\n",
    "        if tmpmax < predmax: predmax = tmpmax\n",
    "\n",
    "    print(f'{\"최고 유사도:\":<18}{maxsim_out:<20.3f}')\n",
    "    print(f'{\"최고 유사도의 정확도:  \"}{maxsim_acc:<20.3f}')\n",
    "    print(f'{\"정확도 범위:\":<18}{predmin:.3f} ~ {predmax:.3f}')\n",
    "    print(f'{\"타겟 분산:\":<19}{preddf['target'].value_counts().std():<20.3f}')\n",
    "\n",
    "output_list = pd.read_csv('output_list.csv')\n",
    "\n",
    "# 예측하고 싶은 output 이름 넣어서 미리 확인해보기\n",
    "olist = ['output']\n",
    "\n",
    "for p in olist:\n",
    "    path = p+'.csv'\n",
    "    pred(path,output_list)\n",
    "    print()"
   ]
  }
 ],
 "metadata": {
  "language_info": {
   "name": "python"
  }
 },
 "nbformat": 4,
 "nbformat_minor": 2
}
