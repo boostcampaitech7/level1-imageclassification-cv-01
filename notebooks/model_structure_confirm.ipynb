{
 "cells": [
  {
   "cell_type": "code",
   "execution_count": null,
   "metadata": {},
   "outputs": [],
   "source": [
    "# model layer들 확인\n",
    "import timm\n",
    "num_classes=500\n",
    "model = timm.create_model('convnextv2_huge', pretrained=False, num_classes=num_classes)\n",
    "for name, layer in model.named_modules():\n",
    "    print(name)"
   ]
  },
  {
   "cell_type": "code",
   "execution_count": null,
   "metadata": {},
   "outputs": [],
   "source": [
    "# 특정 block에 있는 내용 확인\n",
    "print(model.layers[0].blocks[0])"
   ]
  },
  {
   "cell_type": "code",
   "execution_count": null,
   "metadata": {},
   "outputs": [],
   "source": [
    "# head 부분 확인\n",
    "model.head"
   ]
  },
  {
   "cell_type": "code",
   "execution_count": null,
   "metadata": {},
   "outputs": [],
   "source": [
    "# model 특정 layer 차원 변경\n",
    "import torch.nn as nn\n",
    "model.layers[0].blocks[0].mlp.fc1 = nn.Linear(in_features=1024, out_features=580)\n",
    "\n",
    "# model 특정 layer 이름 변경\n",
    "import timm\n",
    "import torch\n",
    "\n",
    "# timm 모델 생성\n",
    "model = timm.create_model('swin_base_patch4_window7_224', pretrained=False,num_classes=500)\n",
    "\n",
    "# 체크포인트 로드 (PyTorch Lightning에서 저장한 ckpt 파일)\n",
    "ckpt = torch.load('./result/swin_base_patch4_window7_224-64-0.0001-AdamW-O-swin_base_patch4_window7_224_09-21_5/epoch=43-step=8008.ckpt')\n",
    "\n",
    "state_dict = {'.'.join(key.split('.')[2:]): val for key, val in ckpt['state_dict'].items()}\n",
    "\n",
    "# state_dict에서 키를 수정하여 fc.1 -> fc로 변경\n",
    "# new_state_dict = {}\n",
    "# for key, val in state_dict.items():\n",
    "#     if 'fc.1' in key:\n",
    "#         new_key = key.replace('fc.1', 'fc')\n",
    "#     else:\n",
    "#         new_key = key\n",
    "#     new_state_dict[new_key] = val\n",
    "\n",
    "# # 새로운 state_dict로 모델 가중치 로드\n",
    "# model.load_state_dict(new_state_dict)\n",
    "# model.cuda()"
   ]
  },
  {
   "cell_type": "code",
   "execution_count": null,
   "metadata": {},
   "outputs": [],
   "source": [
    "import open_clip\n",
    "for i in open_clip.list_models():\n",
    "    if 'coca' in i:\n",
    "        print(i)"
   ]
  }
 ],
 "metadata": {
  "language_info": {
   "name": "python"
  }
 },
 "nbformat": 4,
 "nbformat_minor": 2
}
